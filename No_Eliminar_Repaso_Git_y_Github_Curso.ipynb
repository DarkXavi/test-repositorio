{
 "cells": [
  {
   "cell_type": "markdown",
   "metadata": {},
   "source": [
    "<center> <h1> <b> ESTA ES LA VERSION 2.1 DEL CURSO </b> </h1> </center>"
"<center> <h1> <b> ESTA VERSION ESTA EDITADA EN GITHUB </b> </h1> </center>"
   ]
  },
  {
   "cell_type": "markdown",
   "metadata": {},
   "source": [
    "GIT: Sirve para administrar versiones de un proyecto.  \n",
    "Su estructura se divide en 4 componentes:  \n",
    "\n",
    "*AREA DE TRABAJO (LOCAL) --> AREA DE PREPARACION --> REPOSITORIO (LOCAL) --> REPOSITORIO REMOTO (SERVIDOR GITHUB)*"
   ]
  },
  {
   "cell_type": "markdown",
   "metadata": {},
   "source": [
    "## **Algunos Comandos de Consola.**\n",
    "**cd nombre_carpeta**: Avanza directorio.  \n",
    "**cd../**: Retrocede directorio.  \n",
    "**ls**: Listar archivos.  \n",
    "**ls -a**: Ver archivos ocultos.  \n",
    "**mkdir nombre_archivo**: Crea una nueva carpeta.  \n",
    "**rmdir nombre_archivo**: Elimina carpeta"
   ]
  },
  {
   "cell_type": "markdown",
   "metadata": {},
   "source": [
    "## **Configuraciones Iniciales.**\n",
    "### **Configurar Usuario y Email.**\n",
    "Se recomienda ingresar con el usuario y email registrado en la cuenta de GITHUB.  \n",
    "**Configurar usuario**: git config --global user.name ingresar-nombre-usuario  \n",
    "**Configurar email**: git config --global user.email ingresar-email-usuario  \n",
    "\n",
    "### **Ver Lista de Configuraciones.**\n",
    "  **git config --list**\n",
    "\n",
    "### **Configurar Editor VSCODE.**\n",
    "  **git config --global core.editor code --wait**\n",
    "\n",
    "### **Configurar Colores de GUIT BASH.**\n",
    "  **git config --global color.ui true**\n",
    "\n",
    "### **Configurar Salto de Linea.**\n",
    "Windows: **git config --global core.autocrlf true**  \n",
    "Linux/Mac: **git config --global core.autocrlf input**"
   ]
  },
  {
   "cell_type": "markdown",
   "metadata": {},
   "source": [
    "## **Inicializar GIT.**\n",
    "Para inicializar GIT, se debe abri GIT BASH y navegar hasta la carpeta del repositorio del proyecto.  \n",
    "O navegar hasta el repositorio, dar click derecho y seleccionar GIT BASH  \n",
    "Una vez dentro de escribe la sentencia: **git init** "
   ]
  },
  {
   "cell_type": "markdown",
   "metadata": {},
   "source": [
    "## **Limpiar Pantalla.**\n",
    "**clear** "
   ]
  },
  {
   "cell_type": "markdown",
   "metadata": {},
   "source": [
    "## **Subir Archivos al Area de Preparación.**\n",
    "Para subir varios archivos de una sola vez (Se usa si se esta seguro de que los archivos a subir no tengan informacion de relevancia como contraseñas o información delicada): **git add .**  \n",
    "Para subir uno o varios archivos: **git add nombre_archivo1 nombre_archivo2 ... etc**"
   ]
  },
  {
   "cell_type": "markdown",
   "metadata": {},
   "source": [
    "## **Mostrar Contenido del Archivo.**\n",
    "**git show nombre_archivo**"
   ]
  },
  {
   "cell_type": "markdown",
   "metadata": {},
   "source": [
    "## **Mostrar Contenido del Archivo.**\n",
    "**git show nombre_archivo**"
   ]
  },
  {
   "cell_type": "markdown",
   "metadata": {},
   "source": [
    "## **Ver Estado de los Archivos.**\n",
    "Se muestra el estado (Modificado, Area de Preparación) del archivo o archivos.\n",
    "\n",
    "**git status**  "
   ]
  },
  {
   "cell_type": "markdown",
   "metadata": {},
   "source": [
    "## **Remover Archivos del Area de Preparación**\n",
    "**git rm --cached nombre_archivo1 nombre_archivo2 ... etc**"
   ]
  },
  {
   "cell_type": "markdown",
   "metadata": {},
   "source": [
    "## **Subir Archivos al Repositorio Local.**\n",
    "Sube al repositorio los archivos que esten previamente en el Area de Preparación: **git commit -m mensaje-detallado-de-modificacion**  \n",
    "Sube directamente al repositorio archivos sin estar en el Area de Preparación: **git commit -m mensaje-detallado-de-modificacion -a**  \n",
    "Ej: git comit -m optimizacion-interfaz-usuario-login -a  \n",
    "**Nota:** El nombre del \"commit\" se debe escribir en letras minúsculas y separado por un guión."
   ]
  },
  {
   "cell_type": "markdown",
   "metadata": {},
   "source": []
  }
 ],
 "metadata": {
  "language_info": {
   "name": "python"
  }
 },
 "nbformat": 4,
 "nbformat_minor": 2
}
